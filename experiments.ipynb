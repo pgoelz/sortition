{
 "cells": [
  {
   "cell_type": "code",
   "execution_count": 1,
   "metadata": {},
   "outputs": [
    {
     "name": "stdout",
     "output_type": "stream",
     "text": [
      "Academic license - for non-commercial use only\n"
     ]
    }
   ],
   "source": [
    "from math import ceil, inf, isnan, sqrt \n",
    "from random import choice, random, seed\n",
    "\n",
    "import matplotlib as mpl\n",
    "from matplotlib import pyplot as plt\n",
    "import numpy as np\n",
    "import pandas as pd\n",
    "import seaborn as sns\n",
    "\n",
    "from run_mskmeans import minsize_kmeans\n",
    "from variance import compute_variance, count_mi_ni, equivalent_panel_size, get_layout, successive_stratification"
   ]
  },
  {
   "cell_type": "code",
   "execution_count": 2,
   "metadata": {},
   "outputs": [],
   "source": [
    "seed(0)\n",
    "np.random.seed(0)"
   ]
  },
  {
   "cell_type": "code",
   "execution_count": 3,
   "metadata": {},
   "outputs": [],
   "source": [
    "sns.set(font_scale=1.35, rc={'text.usetex' : True})\n",
    "sns.set_style(\"whitegrid\")\n",
    "purple = \"#6A1B9A\"; blue=\"#3F51B5\"; green=\"#43A047\"; orange=\"#FF9800\"; red=\"#d32f2f\"\n",
    "sns.set_palette(sns.color_palette([blue, green, orange, red, purple]))"
   ]
  },
  {
   "cell_type": "code",
   "execution_count": 4,
   "metadata": {},
   "outputs": [],
   "source": [
    "years = [2014, 2016]"
   ]
  },
  {
   "cell_type": "markdown",
   "metadata": {},
   "source": [
    "We require that the GSS stata files from 2014 and 2016 (cross-section only) exist in the working directory. As of January 2018, zipped versions of these files are available at http://gss.norc.org/documents/stata/2014_stata.zip and http://gss.norc.org/Documents/stata/2016_stata.zip. The sha hashes of the files are as follows:\n",
    "\n",
    "    SHA256(GSS2014.DTA) = 9a75a0dac39ff06a98855469603d9530a3fdc01cbb7c6c5cfb6154a1bc6194a5\n",
    "    SHA256(GSS2016.DTA) = 9d4b02be154caaa25fe90e6bed96e9c837568854093d226a30e3739ef449d2dd"
   ]
  },
  {
   "cell_type": "code",
   "execution_count": 5,
   "metadata": {},
   "outputs": [],
   "source": [
    "full_data14 = pd.read_stata(\"GSS2014.dta\", index_col=\"id\", convert_categoricals=False)\n",
    "full_data16 = pd.read_stata(\"GSS2016.dta\", index_col=\"id\", convert_categoricals=False)"
   ]
  },
  {
   "cell_type": "markdown",
   "metadata": {},
   "source": [
    "In 2014, restrict data to ballots A and C; in 2016 to ballots B and C. In both cases, the largest two ballots were chosen."
   ]
  },
  {
   "cell_type": "code",
   "execution_count": 6,
   "metadata": {},
   "outputs": [
    {
     "name": "stdout",
     "output_type": "stream",
     "text": [
      "{1: 851, 2: 824, 3: 863}\n",
      "{1: 911, 2: 977, 3: 979}\n",
      "{2014: 1714, 2016: 1956}\n"
     ]
    }
   ],
   "source": [
    "print({i: len(full_data14[full_data14[\"ballot\"] == i]) for i in range(1, 4)})\n",
    "print({i: len(full_data16[full_data16[\"ballot\"] == i]) for i in range(1, 4)})\n",
    "data14 = full_data14[full_data14[\"ballot\"].isin([1, 3])]\n",
    "data16 = full_data16[full_data16[\"ballot\"].isin([2, 3])]\n",
    "datas = {2014: data14, 2016: data16}\n",
    "print({year: len(datas[year]) for year in years})"
   ]
  },
  {
   "cell_type": "markdown",
   "metadata": {},
   "source": [
    "We select a set of demographic features and check there are given by nearly all agents."
   ]
  },
  {
   "cell_type": "code",
   "execution_count": 7,
   "metadata": {},
   "outputs": [],
   "source": [
    "demographics = [\"age\", \"sex\", \"race\", \"class\", \"degree\", \"region\", \"happy\", \"relig\", \"partyid\", \"childs\", \"marital\", \"vetyears\", \"srcbelt\", \"born\"]"
   ]
  },
  {
   "cell_type": "code",
   "execution_count": 8,
   "metadata": {},
   "outputs": [
    {
     "name": "stdout",
     "output_type": "stream",
     "text": [
      "Percentage of invalid answers by demographic feature in 2014:\n",
      "age: 0.47%\n",
      "sex: 0.00%\n",
      "race: 0.00%\n",
      "class: 0.93%\n",
      "degree: 0.00%\n",
      "region: 0.00%\n",
      "happy: 0.35%\n",
      "relig: 0.70%\n",
      "partyid: 1.40%\n",
      "childs: 0.29%\n",
      "marital: 0.23%\n",
      "vetyears: 0.06%\n",
      "srcbelt: 0.00%\n",
      "born: 0.00%\n",
      "Percentage of invalid answers by demographic feature in 2016:\n",
      "age: 0.36%\n",
      "sex: 0.00%\n",
      "race: 0.00%\n",
      "class: 0.77%\n",
      "degree: 0.31%\n",
      "region: 0.00%\n",
      "happy: 0.36%\n",
      "relig: 0.61%\n",
      "partyid: 1.18%\n",
      "childs: 0.36%\n",
      "marital: 0.05%\n",
      "vetyears: 0.20%\n",
      "srcbelt: 0.00%\n",
      "born: 0.15%\n"
     ]
    }
   ],
   "source": [
    "for year in years:\n",
    "    print(f\"Percentage of invalid answers by demographic feature in {year}:\")\n",
    "    for dem in demographics:\n",
    "        print(f\"{dem}: {100 * datas[year][dem].isna().sum() / len(datas[year]):.2f}%\")"
   ]
  },
  {
   "cell_type": "markdown",
   "metadata": {},
   "source": [
    "# Simple stratification"
   ]
  },
  {
   "cell_type": "code",
   "execution_count": 9,
   "metadata": {},
   "outputs": [],
   "source": [
    "k = 50"
   ]
  },
  {
   "cell_type": "code",
   "execution_count": 10,
   "metadata": {},
   "outputs": [],
   "source": [
    "min_sizes = {year: ceil(len(datas[year]) / k) for year in years}"
   ]
  },
  {
   "cell_type": "code",
   "execution_count": 11,
   "metadata": {},
   "outputs": [],
   "source": [
    "uniform_stratification = {year: pd.DataFrame({\"stratum\": [0] * len(datas[year])}, index=datas[year].index) for year in years}"
   ]
  },
  {
   "cell_type": "code",
   "execution_count": 12,
   "metadata": {},
   "outputs": [],
   "source": [
    "race_gender = {year: successive_stratification(datas[year], [\"race\", \"sex\"], min_sizes[year]) for year in years}"
   ]
  },
  {
   "cell_type": "markdown",
   "metadata": {},
   "source": [
    "# Random stratification"
   ]
  },
  {
   "cell_type": "code",
   "execution_count": 13,
   "metadata": {},
   "outputs": [],
   "source": [
    "non_demographics = {year: [att for att in datas[year].columns\n",
    "                           if not att in demographics\n",
    "                           and datas[year][att].isna().sum() <= 0.1 * len(datas[year])]\n",
    "                    for year in years}"
   ]
  },
  {
   "cell_type": "code",
   "execution_count": 14,
   "metadata": {},
   "outputs": [],
   "source": [
    "def random_m(year):\n",
    "    category = choice(non_demographics[year])\n",
    "    n = len(datas[year])\n",
    "    random_agent = datas[year].sample().index[0]\n",
    "    value = datas[year].loc[random_agent, category]\n",
    "    if isnan(value):\n",
    "        return random_m(year)\n",
    "    if random() < .5:\n",
    "        m = pd.DataFrame({\"m\": np.where(datas[year][category] <= value, 1, 0)}, index=datas[year].index)\n",
    "    else:\n",
    "        m = pd.DataFrame({\"m\": np.where(datas[year][category] >= value, 1, 0)}, index=datas[year].index)\n",
    "    if len(set(m[\"m\"])) < 2:\n",
    "        return random_m(year)\n",
    "    return m"
   ]
  },
  {
   "cell_type": "code",
   "execution_count": 15,
   "metadata": {},
   "outputs": [],
   "source": [
    "def random_demographic_stratification(year, k):\n",
    "    features = np.random.permutation(demographics)\n",
    "    return successive_stratification(datas[year], features, ceil(len(datas[year]) / k))"
   ]
  },
  {
   "cell_type": "code",
   "execution_count": 16,
   "metadata": {},
   "outputs": [],
   "source": [
    "simple = \"$\\\\frac{n - 1}{n - k} \\\\, \\\\mathit{Var}(U_M) - \\\\frac{k}{n} \\\\sum_i \\\\frac{\\\\epsilon_i^2}{n_i}$\"\n",
    "def simple_bound(data, hidden_feature, strata, k):\n",
    "    combination = data.join(strata, how=\"inner\")\n",
    "    n = len(data)\n",
    "    m = len(data[data[hidden_feature] == 1])\n",
    "    mi, ni = count_mi_ni(combination[hidden_feature], combination[\"stratum\"])\n",
    "    ell = len(ni)\n",
    "    return k * m/n * (1 - m/n) - k/n * sum((mi[i] - m / n * ni[i])**2 / ni[i] for i in range(ell))\n",
    "\n",
    "def simple_fraction(data, hidden_feature, strata, k):\n",
    "    combination = data.join(strata, how=\"inner\")\n",
    "    n = len(data)\n",
    "    m = len(data[data[hidden_feature] == 1])\n",
    "    mi, ni = count_mi_ni(combination[hidden_feature], combination[\"stratum\"])\n",
    "    ell = len(ni)\n",
    "    return (k/n * sum((mi[i] - m / n * ni[i])**2 / ni[i] for i in range(ell))) / (k * m/n * (1 - m/n))"
   ]
  },
  {
   "cell_type": "code",
   "execution_count": 17,
   "metadata": {},
   "outputs": [],
   "source": [
    "samples = []\n",
    "def sample_random(year, k):\n",
    "    datum = {\"year\": year, \"k\": k}\n",
    "    m = random_m(year)\n",
    "    datum[\"$|M|$\"] = len(m[m[\"m\"] == 1])\n",
    "    random_strat = random_demographic_stratification(year, k)\n",
    "    datum[\"$\\\\ell$\"] = len(set(random_strat[\"stratum\"]))\n",
    "    datum[\"$\\\\mathit{Var}(X_M)$\"] = compute_variance(m, \"m\", random_strat, k)\n",
    "    n = len(datas[year])\n",
    "    datum[\"equivalent panel size\"] = equivalent_panel_size(datum[\"$\\mathit{Var}(X_M)$\"], n, datum[\"$|M|$\"], k)\n",
    "    samples.append(datum)\n",
    "    return datum"
   ]
  },
  {
   "cell_type": "code",
   "execution_count": 18,
   "metadata": {},
   "outputs": [],
   "source": [
    "for year in years:\n",
    "    for _ in range(250):\n",
    "        sample_random(year, k)"
   ]
  },
  {
   "cell_type": "code",
   "execution_count": 19,
   "metadata": {},
   "outputs": [],
   "source": [
    "d = pd.DataFrame(samples)"
   ]
  },
  {
   "cell_type": "code",
   "execution_count": 20,
   "metadata": {},
   "outputs": [
    {
     "data": {
      "image/png": "[encoded data removed]",
      "text/plain": [
       "<Figure size 252x360 with 1 Axes>"
      ]
     },
     "metadata": {},
     "output_type": "display_data"
    }
   ],
   "source": [
    "g = sns.catplot(data=d, x=\"year\", y=\"equivalent panel size\", kind=\"box\", aspect=.7, showmeans=True,\n",
    "                meanprops={\"markerfacecolor\": \"white\", \"markeredgecolor\": \"black\"}, palette=(blue, orange), saturation=1.)\n",
    "g.ax.set_ylim((48.5, 68))\n",
    "g.ax.yaxis.set_major_locator(mpl.ticker.MultipleLocator(base=2.0))\n",
    "g.savefig(\"random_equivalent.pdf\")"
   ]
  },
  {
   "cell_type": "markdown",
   "metadata": {},
   "source": [
    "Outliers not shown in the figure:"
   ]
  },
  {
   "cell_type": "code",
   "execution_count": 21,
   "metadata": {},
   "outputs": [
    {
     "data": {
      "text/html": [
       "<div>\n",
       "<style scoped>\n",
       "    .dataframe tbody tr th:only-of-type {\n",
       "        vertical-align: middle;\n",
       "    }\n",
       "\n",
       "    .dataframe tbody tr th {\n",
       "        vertical-align: top;\n",
       "    }\n",
       "\n",
       "    .dataframe thead th {\n",
       "        text-align: right;\n",
       "    }\n",
       "</style>\n",
       "<table border=\"1\" class=\"dataframe\">\n",
       "  <thead>\n",
       "    <tr style=\"text-align: right;\">\n",
       "      <th></th>\n",
       "      <th>$\\ell$</th>\n",
       "      <th>$\\mathit{Var}(X_M)$</th>\n",
       "      <th>$|M|$</th>\n",
       "      <th>equivalent panel size</th>\n",
       "      <th>k</th>\n",
       "      <th>year</th>\n",
       "    </tr>\n",
       "  </thead>\n",
       "  <tbody>\n",
       "    <tr>\n",
       "      <th>115</th>\n",
       "      <td>37</td>\n",
       "      <td>7.975022</td>\n",
       "      <td>654</td>\n",
       "      <td>70.951743</td>\n",
       "      <td>50</td>\n",
       "      <td>2014</td>\n",
       "    </tr>\n",
       "    <tr>\n",
       "      <th>176</th>\n",
       "      <td>37</td>\n",
       "      <td>7.511003</td>\n",
       "      <td>558</td>\n",
       "      <td>70.132903</td>\n",
       "      <td>50</td>\n",
       "      <td>2014</td>\n",
       "    </tr>\n",
       "    <tr>\n",
       "      <th>245</th>\n",
       "      <td>38</td>\n",
       "      <td>7.939166</td>\n",
       "      <td>961</td>\n",
       "      <td>74.247657</td>\n",
       "      <td>50</td>\n",
       "      <td>2014</td>\n",
       "    </tr>\n",
       "    <tr>\n",
       "      <th>280</th>\n",
       "      <td>36</td>\n",
       "      <td>7.089586</td>\n",
       "      <td>1089</td>\n",
       "      <td>83.356004</td>\n",
       "      <td>50</td>\n",
       "      <td>2016</td>\n",
       "    </tr>\n",
       "    <tr>\n",
       "      <th>446</th>\n",
       "      <td>34</td>\n",
       "      <td>2.360576</td>\n",
       "      <td>816</td>\n",
       "      <td>227.648434</td>\n",
       "      <td>50</td>\n",
       "      <td>2016</td>\n",
       "    </tr>\n",
       "    <tr>\n",
       "      <th>498</th>\n",
       "      <td>36</td>\n",
       "      <td>1.028263</td>\n",
       "      <td>799</td>\n",
       "      <td>451.952795</td>\n",
       "      <td>50</td>\n",
       "      <td>2016</td>\n",
       "    </tr>\n",
       "  </tbody>\n",
       "</table>\n",
       "</div>"
      ],
      "text/plain": [
       "     $\\ell$  $\\mathit{Var}(X_M)$  $|M|$  equivalent panel size   k  year\n",
       "115      37             7.975022    654              70.951743  50  2014\n",
       "176      37             7.511003    558              70.132903  50  2014\n",
       "245      38             7.939166    961              74.247657  50  2014\n",
       "280      36             7.089586   1089              83.356004  50  2016\n",
       "446      34             2.360576    816             227.648434  50  2016\n",
       "498      36             1.028263    799             451.952795  50  2016"
      ]
     },
     "execution_count": 21,
     "metadata": {},
     "output_type": "execute_result"
    }
   ],
   "source": [
    "d[(d[\"equivalent panel size\"] < 48.5) | (d[\"equivalent panel size\"] > 68)]"
   ]
  },
  {
   "cell_type": "markdown",
   "metadata": {},
   "source": [
    "Compute the mean equivalent panel size for both years and the mean excluding all outliers above 68:"
   ]
  },
  {
   "cell_type": "code",
   "execution_count": 22,
   "metadata": {},
   "outputs": [
    {
     "name": "stdout",
     "output_type": "stream",
     "text": [
      "{2014: 51.463547776641775, 2016: 54.0460034768623}\n",
      "{2014: 51.21682040919089, 2016: 51.61353699079559}\n"
     ]
    }
   ],
   "source": [
    "print({year: d[d[\"year\"] == year][\"equivalent panel size\"].mean() for year in years})\n",
    "print({year: d[(d[\"year\"] == year) & (d[\"equivalent panel size\"] <= 68)][\"equivalent panel size\"].mean() for year in years})"
   ]
  },
  {
   "cell_type": "code",
   "execution_count": 23,
   "metadata": {},
   "outputs": [
    {
     "data": {
      "text/plain": [
       "49.74485118628462"
      ]
     },
     "execution_count": 23,
     "metadata": {},
     "output_type": "execute_result"
    }
   ],
   "source": [
    "pd.DataFrame(samples)[\"equivalent panel size\"].min()"
   ]
  },
  {
   "cell_type": "markdown",
   "metadata": {},
   "source": [
    "# Case Study"
   ]
  },
  {
   "cell_type": "markdown",
   "metadata": {},
   "source": [
    "Now, we select 10 attitude features per year, and a conditional to make them binary."
   ]
  },
  {
   "cell_type": "code",
   "execution_count": 24,
   "metadata": {},
   "outputs": [],
   "source": [
    "assert data14 is datas[2014] and data16 is datas[2016]\n",
    "attitude14 = [(\"abdefect\", data14[\"abdefect\"] == 2),\n",
    "              (\"colcom\", data14[\"colcom\"] == 5),\n",
    "              (\"discaff\", data14[\"discaff\"].isin([1, 2])),\n",
    "              (\"getahead\", data14[\"getahead\"].isin([2, 3])),\n",
    "              (\"gunlaw\", data14[\"gunlaw\"] == 1),\n",
    "              (\"homosex\", data14[\"homosex\"].isin([1,2,3])),\n",
    "              (\"libmslm\", data14[\"libmslm\"] == 2),\n",
    "              (\"racopen\", data14[\"racopen\"] == 2),\n",
    "              (\"cappun\", data14[\"cappun\"] == 2),\n",
    "              (\"tax\", data14[\"tax\"] == 1)]\n",
    "attitude16 = [(\"eqwlth\", data16[\"eqwlth\"].isin([1, 2, 3, 4])),\n",
    "              (\"helpful\", data16[\"helpful\"] == 1),\n",
    "              (\"helpsick\", data16[\"helpsick\"].isin([3, 4, 5])),\n",
    "              (\"polhitok\", data16[\"polhitok\"] == 2),\n",
    "              (\"pornlaw\", data16[\"pornlaw\"] == 1),\n",
    "              (\"conmedic\", data16[\"conmedic\"] == 2),\n",
    "              (\"contv\", data16[\"contv\"].isin([1, 2])),\n",
    "              (\"conarmy\", data16[\"conarmy\"].isin([2, 3])),\n",
    "              (\"natpark\", data16[\"natpark\"] == 1),\n",
    "              (\"helpblk\", data16[\"helpblk\"].isin([1, 2]))]\n",
    "assert len(attitude14) == 10\n",
    "assert len(attitude16) == 10\n",
    "attitudes = {2014: attitude14, 2016: attitude16}"
   ]
  },
  {
   "cell_type": "markdown",
   "metadata": {},
   "source": [
    "Check that all chosen attitude features are given for a large majority of agents (more than 90%):"
   ]
  },
  {
   "cell_type": "code",
   "execution_count": 25,
   "metadata": {},
   "outputs": [
    {
     "name": "stdout",
     "output_type": "stream",
     "text": [
      "Percentage of invalid answers by attitude in 2014:\n",
      "abdefect: 4.73%\n",
      "colcom: 5.19%\n",
      "discaff: 3.33%\n",
      "getahead: 0.82%\n",
      "gunlaw: 1.23%\n",
      "homosex: 3.68%\n",
      "libmslm: 1.46%\n",
      "racopen: 0.53%\n",
      "cappun: 6.65%\n",
      "tax: 2.63%\n",
      "Percentage of invalid answers by attitude in 2016:\n",
      "eqwlth: 1.02%\n",
      "helpful: 0.51%\n",
      "helpsick: 3.07%\n",
      "polhitok: 4.09%\n",
      "pornlaw: 0.92%\n",
      "conmedic: 0.72%\n",
      "contv: 0.92%\n",
      "conarmy: 0.97%\n",
      "natpark: 1.38%\n",
      "helpblk: 4.14%\n"
     ]
    }
   ],
   "source": [
    "for year in years:\n",
    "    print(f\"Percentage of invalid answers by attitude in {year}:\")\n",
    "    for att, _ in attitudes[year]:\n",
    "        print(f\"{att}: {100 * datas[year][att].isna().sum() / len(datas[year]):.2f}%\")"
   ]
  },
  {
   "cell_type": "markdown",
   "metadata": {},
   "source": [
    "Attitude features were chosen to cover a wide range of political areas and issues, and should not be directly related. We check that this was successful, i.e. that none of the features have extremely positive or negative correlation. We find fairly high (anti-)correlations between features relating to social liberalism in the 2014 dataset (homosexuality, free speech, abortions), but none of them are unreasonably high. In the 2016 dataset, there is high correlation between attitudes relating to healthcare, affirmative action, and reducing income inequality."
   ]
  },
  {
   "cell_type": "code",
   "execution_count": 26,
   "metadata": {},
   "outputs": [
    {
     "name": "stdout",
     "output_type": "stream",
     "text": [
      "10 highest correlations between attitude features in 2014:\n",
      "colcom & libmslm: 37.05%\n",
      "abdefect & homosex: 25.68%\n",
      "getahead & libmslm: 11.67%\n",
      "cappun & racopen: 10.86%\n",
      "cappun & gunlaw: 10.24%\n",
      "gunlaw & racopen: 9.29%\n",
      "discaff & homosex: 9.18%\n",
      "cappun & libmslm: 8.71%\n",
      "discaff & tax: 8.68%\n",
      "homosex & tax: 8.23%\n",
      "10 lowest correlations between attitude features in 2014:\n",
      "homosex & libmslm: -24.00%\n",
      "colcom & homosex: -17.22%\n",
      "abdefect & libmslm: -15.13%\n",
      "cappun & discaff: -11.33%\n",
      "libmslm & tax: -11.16%\n",
      "gunlaw & tax: -10.58%\n",
      "homosex & racopen: -10.48%\n",
      "discaff & libmslm: -9.75%\n",
      "cappun & tax: -9.18%\n",
      "racopen & tax: -8.82%\n",
      "10 highest correlations between attitude features in 2016:\n",
      "eqwlth & helpblk: 21.44%\n",
      "helpblk & polhitok: 12.29%\n",
      "eqwlth & polhitok: 11.87%\n",
      "helpblk & natpark: 11.85%\n",
      "conarmy & helpblk: 11.84%\n",
      "eqwlth & natpark: 11.31%\n",
      "conarmy & conmedic: 9.88%\n",
      "conmedic & pornlaw: 8.89%\n",
      "conarmy & eqwlth: 8.12%\n",
      "helpsick & pornlaw: 7.90%\n",
      "10 lowest correlations between attitude features in 2016:\n",
      "helpblk & helpsick: -33.89%\n",
      "eqwlth & helpsick: -32.08%\n",
      "conarmy & contv: -12.80%\n",
      "helpsick & natpark: -9.84%\n",
      "helpsick & polhitok: -9.42%\n",
      "conarmy & helpsick: -9.36%\n",
      "natpark & pornlaw: -8.81%\n",
      "conmedic & contv: -8.13%\n",
      "helpful & natpark: -7.56%\n",
      "helpful & polhitok: -7.12%\n"
     ]
    }
   ],
   "source": [
    "for year in years:\n",
    "    correlations = []\n",
    "    data = datas[year]\n",
    "    for att, m in attitudes[year]:\n",
    "        for att2, m2 in attitudes[year]:\n",
    "            if att >= att2:\n",
    "                continue\n",
    "            p1 = len(data[m]) / len(data)\n",
    "            p2 = len(data[m2]) / len(data)\n",
    "            var = len(data[m & m2]) / len(data) - p1 * p2\n",
    "            corr = var / sqrt(p1 * (1 - p1)) / sqrt(p2 * (1 - p2))\n",
    "            correlations.append((corr, (att, att2)))\n",
    "    correlations.sort()\n",
    "    print(f\"10 highest correlations between attitude features in {year}:\")\n",
    "    for corr, (att, att2) in reversed(correlations[-10:]):\n",
    "        print(f\"{att} & {att2}: {100 * corr:.2f}%\")\n",
    "    print(f\"10 lowest correlations between attitude features in {year}:\")\n",
    "    for corr, (att, att2) in correlations[:10]:\n",
    "        print(f\"{att} & {att2}: {100 * corr:.2f}%\")"
   ]
  },
  {
   "cell_type": "markdown",
   "metadata": {},
   "source": [
    "Create new columns for the binary attitude features."
   ]
  },
  {
   "cell_type": "code",
   "execution_count": 27,
   "metadata": {},
   "outputs": [],
   "source": [
    "for year in years:\n",
    "    datas[year] = datas[year].assign(**{att + \"_bin\": np.where(m, 1, 0) for att, m in attitudes[year]})"
   ]
  },
  {
   "cell_type": "code",
   "execution_count": 28,
   "metadata": {},
   "outputs": [
    {
     "name": "stdout",
     "output_type": "stream",
     "text": [
      "revealed attitudes 2014: ['gunlaw', 'racopen', 'getahead', 'colcom', 'libmslm']\n",
      "revealed attitudes 2016: ['polhitok', 'contv', 'conmedic', 'helpblk', 'pornlaw']\n",
      "non-revealed attitudes 2014: ['abdefect', 'discaff', 'homosex', 'cappun', 'tax']\n",
      "non-revealed attitudes 2016: ['eqwlth', 'helpful', 'helpsick', 'conarmy', 'natpark']\n"
     ]
    }
   ],
   "source": [
    "revealed_indices14 = [4, 7, 3, 1, 6]  # first 5 numbers of https://www.random.org/sequences/?min=0&max=9&col=1&format=html&rnd=new\n",
    "revealed_indices16 = [3, 6, 5, 9, 4]\n",
    "rev_att14 = [attitudes[2014][i] for i in revealed_indices14]\n",
    "print(\"revealed attitudes 2014:\", [att[0] for att in rev_att14])\n",
    "rev_att16 = [attitudes[2016][i] for i in revealed_indices16]\n",
    "print(\"revealed attitudes 2016:\", [att[0] for att in rev_att16])\n",
    "rev_atts = {2014: rev_att14, 2016: rev_att16}\n",
    "\n",
    "nonrev_att14 = [attitudes[2014][i] for i in range(10) if i not in revealed_indices14]\n",
    "print(\"non-revealed attitudes 2014:\", [att[0] for att in nonrev_att14])\n",
    "nonrev_att16 = [attitudes[2016][i] for i in range(10) if i not in revealed_indices16]\n",
    "print(\"non-revealed attitudes 2016:\", [att[0] for att in nonrev_att16])\n",
    "nonrev_atts = {2014: nonrev_att14, 2016: nonrev_att16}"
   ]
  },
  {
   "cell_type": "code",
   "execution_count": 29,
   "metadata": {},
   "outputs": [],
   "source": [
    "categories = {year: demographics + [att + \"_bin\" for att, _ in rev_atts[year]] for year in years}\n",
    "exports = {year: datas[year][categories[year]] for year in years}"
   ]
  },
  {
   "cell_type": "markdown",
   "metadata": {},
   "source": [
    "We now export the data given to Experimenter B. The two files should hash as follows:\n",
    "\n",
    "    SHA256(./data14.csv) = ff8e577c452e178bf9aece09cff06f4e99280a53f146e56ee3ff0c942d8b9817\n",
    "    SHA256(./data16.csv) = 733ea9cfcfe2b0807bfd89e9a8d221763ed874040ffc2eaa2c81918b8e1ffe20"
   ]
  },
  {
   "cell_type": "code",
   "execution_count": 30,
   "metadata": {},
   "outputs": [],
   "source": [
    "exports[2014].to_csv(\"data14.csv\")\n",
    "exports[2016].to_csv(\"data16.csv\")"
   ]
  },
  {
   "cell_type": "code",
   "execution_count": 31,
   "metadata": {},
   "outputs": [
    {
     "name": "stdout",
     "output_type": "stream",
     "text": [
      "tax helpsick\n"
     ]
    }
   ],
   "source": [
    "reveal_category14 = nonrev_atts[2014][4]  # index from https://www.random.org/integers/?num=1&min=0&max=4&col=5&base=10&format=html&rnd=new\n",
    "reveal_category16 = nonrev_atts[2016][2]\n",
    "print(reveal_category14[0], reveal_category16[0])"
   ]
  },
  {
   "cell_type": "markdown",
   "metadata": {},
   "source": [
    "# Manual Stratification"
   ]
  },
  {
   "cell_type": "markdown",
   "metadata": {},
   "source": [
    "Read in the manual stratifications created by experimenter B. First, the stratification for both years without further information; then, the stratifications for which the category description (`tax` and `helpsick`, respectively) has been revealed."
   ]
  },
  {
   "cell_type": "code",
   "execution_count": 32,
   "metadata": {},
   "outputs": [],
   "source": [
    "manual14 = pd.read_csv(\"manual14.txt\", header=None, names=[\"stratum\"], delim_whitespace=True)\n",
    "manual16 = pd.read_csv(\"manual16.txt\", header=None, names=[\"stratum\"], delim_whitespace=True)\n",
    "manuals = {2014: manual14, 2016: manual16}"
   ]
  },
  {
   "cell_type": "code",
   "execution_count": 33,
   "metadata": {},
   "outputs": [],
   "source": [
    "manual_tax = pd.read_csv(\"manual14_tax.txt\", header=None, names=[\"stratum\"], delim_whitespace=True)\n",
    "manual_helpsick = pd.read_csv(\"manual16_helpsick.txt\", header=None, names=[\"stratum\"], delim_whitespace=True)"
   ]
  },
  {
   "cell_type": "markdown",
   "metadata": {},
   "source": [
    "# Clustering"
   ]
  },
  {
   "cell_type": "code",
   "execution_count": 34,
   "metadata": {},
   "outputs": [],
   "source": [
    "is_multidimensional = {\n",
    "    \"age\": False,\n",
    "    \"sex\": False,\n",
    "    \"race\": True,\n",
    "    \"class\": False,\n",
    "    \"degree\": False,\n",
    "    \"region\": True,\n",
    "    \"happy\": False,\n",
    "    \"relig\": True,\n",
    "    \"partyid\": False, # map 7 to middle\n",
    "    \"childs\": False,\n",
    "    \"marital\": True,\n",
    "    \"vetyears\": False, # map 4 to middle\n",
    "    \"srcbelt\": False,\n",
    "    \"born\": False\n",
    "}\n",
    "for year in years:\n",
    "    for att, _ in rev_atts[year]:\n",
    "        is_multidimensional[att + \"_bin\"] = False"
   ]
  },
  {
   "cell_type": "markdown",
   "metadata": {},
   "source": [
    "Two demographic categories, `partyid` and `vetyears`, are essentially one-dimensional. However, their highest value does not correspond to an extreme on the spectrum. For example, consider the codes for `partyid`:\n",
    "\n",
    "    partyid: Generally speaking, do you usually think of yourself as a Republican, Democrat, Independent, or what?\n",
    "    0: strong democrat\n",
    "    1: not very strong democrat\n",
    "    2: independent, close to democrat\n",
    "    3: independent (neither, no response)\n",
    "    4: independent, close to republican\n",
    "    5: not very strong republican\n",
    "    6: strong republican\n",
    "    7: other party, refused to say\n",
    "\n",
    "We remap value 7 to a neutral position, such that the remaining values constitute a one-dimensional spectrum:"
   ]
  },
  {
   "cell_type": "code",
   "execution_count": 35,
   "metadata": {},
   "outputs": [],
   "source": [
    "rescaled = {}\n",
    "for year in years:\n",
    "    rescaled[year] = exports[year].copy()\n",
    "    rescaled[year][\"partyid\"] = rescaled[year][\"partyid\"].replace(7, float(\"nan\"))\n",
    "    rescaled[year][\"vetyears\"] = rescaled[year][\"vetyears\"].replace(4, float(\"nan\"))"
   ]
  },
  {
   "cell_type": "code",
   "execution_count": 36,
   "metadata": {},
   "outputs": [],
   "source": [
    "for year in years:\n",
    "    for att in categories[year]:\n",
    "        if is_multidimensional[att]:\n",
    "            vals = set(rescaled[year][att].dropna())\n",
    "            rescaled[year] = rescaled[year].assign(**{att + str(int(v)): np.where(rescaled[year][att] == v, 1., 0.) for v in vals})\n",
    "            del rescaled[year][att]\n",
    "        else:\n",
    "            mini = rescaled[year][att].min()\n",
    "            maxi = rescaled[year][att].max()\n",
    "            assert mini < maxi\n",
    "            rescaled[year][att] = rescaled[year][att].map(lambda v: 0.5 if isnan(v) else (v - mini) / (maxi - mini))"
   ]
  },
  {
   "cell_type": "code",
   "execution_count": 37,
   "metadata": {},
   "outputs": [],
   "source": [
    "for year in years:\n",
    "    for att in rescaled[year].columns:\n",
    "        assert sum(rescaled[year][att].isna()) == 0"
   ]
  },
  {
   "cell_type": "code",
   "execution_count": 38,
   "metadata": {},
   "outputs": [],
   "source": [
    "clusterdatas = {}\n",
    "kmeans = {}\n",
    "for year in years:\n",
    "    clusterdatas[year] = [tuple(row[1]) for row in rescaled[year].iterrows()]\n",
    "    stratum, _ = minsize_kmeans(clusterdatas[year], len(datas[year]) // min_sizes[year], min_sizes[year])\n",
    "    kmeans[year] = pd.DataFrame({\"stratum\": stratum}, index=rescaled[year].index)"
   ]
  },
  {
   "cell_type": "markdown",
   "metadata": {},
   "source": [
    "# Evaluation"
   ]
  },
  {
   "cell_type": "code",
   "execution_count": 39,
   "metadata": {},
   "outputs": [],
   "source": [
    "candidates = {\"uniform\": uniform_stratification, \"gender/race\": race_gender, \"k-means\": kmeans, \"manual\": manuals}\n",
    "variances = []\n",
    "for year in years:\n",
    "    for att, _ in nonrev_atts[year]:\n",
    "        m = len(datas[year][datas[year][att + \"_bin\"] == 1])\n",
    "        for kind, strat_dict in candidates.items():\n",
    "            expvar = compute_variance(datas[year], att + \"_bin\", strat_dict[year], k, \"expvar\")\n",
    "            varexp = compute_variance(datas[year], att + \"_bin\", strat_dict[year], k, \"varexp\")\n",
    "            equivalent_k = equivalent_panel_size(expvar + varexp, len(datas[year]), m, k)\n",
    "            equivalent_k_norounding = equivalent_panel_size(expvar, len(datas[year]), m, k)\n",
    "            simple = simple_fraction(datas[year], att + \"_bin\", strat_dict[year], k)\n",
    "            variances.append({\"year\": year, \"attitude\": att, \"stratification\": kind, \"variance\": expvar + varexp, \"varexp\": varexp,\n",
    "                              \"expvar\": expvar, \"equivalent panel size\": equivalent_k,\n",
    "                              \"equiv. panel size without rounding\": equivalent_k_norounding,\n",
    "                              \"$\\\\frac{k}{n} \\\\sum_{i} \\\\frac{\\\\epsilon_i^2}{n_i} / \\\\left(k \\\\, \\\\frac{m}{n} \\\\, (1 - \\\\frac{m}{n})\\\\right)$\": simple})\n",
    "            "
   ]
  },
  {
   "cell_type": "code",
   "execution_count": 40,
   "metadata": {},
   "outputs": [],
   "source": [
    "d = pd.DataFrame(variances)"
   ]
  },
  {
   "cell_type": "code",
   "execution_count": 41,
   "metadata": {},
   "outputs": [
    {
     "data": {
      "image/png": "[encoded data removed]",
      "text/plain": [
       "<Figure size 432x288 with 1 Axes>"
      ]
     },
     "metadata": {},
     "output_type": "display_data"
    }
   ],
   "source": [
    "g = sns.barplot(data=d[d[\"year\"] == 2014], x=\"attitude\", y=\"equivalent panel size\", hue=\"stratification\", saturation=1.)\n",
    "g.legend_.remove()\n",
    "g.set_ylim((49, 58))\n",
    "plt.gcf().subplots_adjust(bottom=0.15)\n",
    "g.figure.savefig(\"compare_stratification14.pdf\")"
   ]
  },
  {
   "cell_type": "code",
   "execution_count": 42,
   "metadata": {
    "scrolled": true
   },
   "outputs": [
    {
     "data": {
      "image/png": "[encoded data removed]",
      "text/plain": [
       "<Figure size 432x288 with 1 Axes>"
      ]
     },
     "metadata": {},
     "output_type": "display_data"
    }
   ],
   "source": [
    "g = sns.barplot(data=d[d[\"year\"] == 2016], x=\"attitude\", y=\"equivalent panel size\", hue=\"stratification\", saturation=1.)\n",
    "g.set_ylim((49, 58))\n",
    "plt.gcf().subplots_adjust(bottom=0.15)\n",
    "#plt.legend(loc=\"upper right\")\n",
    "#plt.legend(bbox_to_anchor=(1.05, 1), borderaxespad=0.)\n",
    "g.figure.savefig(\"compare_stratification16.pdf\")"
   ]
  },
  {
   "cell_type": "code",
   "execution_count": 43,
   "metadata": {},
   "outputs": [
    {
     "data": {
      "image/png": "[encoded data removed]",
      "text/plain": [
       "<Figure size 432x288 with 1 Axes>"
      ]
     },
     "metadata": {},
     "output_type": "display_data"
    }
   ],
   "source": [
    "g = sns.barplot(data=d[d[\"year\"] == 2014], x=\"attitude\", y=\"equiv. panel size without rounding\", hue=\"stratification\", saturation=1.)\n",
    "g.legend_.remove()\n",
    "g.set_ylim((49, 58))\n",
    "plt.gcf().subplots_adjust(bottom=0.15)\n",
    "g.figure.savefig(\"compare_stratification14_norounding.pdf\")"
   ]
  },
  {
   "cell_type": "code",
   "execution_count": 44,
   "metadata": {},
   "outputs": [
    {
     "data": {
      "image/png": "[encoded data removed]",
      "text/plain": [
       "<Figure size 432x288 with 1 Axes>"
      ]
     },
     "metadata": {},
     "output_type": "display_data"
    }
   ],
   "source": [
    "g = sns.barplot(data=d[d[\"year\"] == 2016], x=\"attitude\", y=\"equiv. panel size without rounding\", hue=\"stratification\", saturation=1.)\n",
    "g.set_ylim((49, 58))\n",
    "plt.gcf().subplots_adjust(bottom=0.15)\n",
    "g.figure.savefig(\"compare_stratification16_norounding.pdf\")"
   ]
  },
  {
   "cell_type": "code",
   "execution_count": 45,
   "metadata": {},
   "outputs": [
    {
     "data": {
      "image/png": "[encoded data removed]",
      "text/plain": [
       "<Figure size 432x288 with 1 Axes>"
      ]
     },
     "metadata": {},
     "output_type": "display_data"
    }
   ],
   "source": [
    "g = sns.barplot(data=d[d[\"year\"] == 2014], x=\"attitude\",\n",
    "                y=\"$\\\\frac{k}{n} \\\\sum_{i} \\\\frac{\\\\epsilon_i^2}{n_i} / \\\\left(k \\\\, \\\\frac{m}{n} \\\\, (1 - \\\\frac{m}{n})\\\\right)$\",\n",
    "                hue=\"stratification\", saturation=1.)\n",
    "vals = g.get_yticks()\n",
    "g.set_yticklabels([f\"{x:.1%}\".replace(\"%\", \"\\\\%\") for x in vals])\n",
    "plt.gcf().subplots_adjust(bottom=0.15, left=0.2)\n",
    "g.figure.savefig(\"simple_fraction14.pdf\")"
   ]
  },
  {
   "cell_type": "code",
   "execution_count": 46,
   "metadata": {},
   "outputs": [
    {
     "data": {
      "image/png": "[encoded data removed]",
      "text/plain": [
       "<Figure size 432x288 with 1 Axes>"
      ]
     },
     "metadata": {},
     "output_type": "display_data"
    }
   ],
   "source": [
    "g = sns.barplot(data=d[d[\"year\"] == 2016], x=\"attitude\",\n",
    "                y=\"$\\\\frac{k}{n} \\\\sum_{i} \\\\frac{\\\\epsilon_i^2}{n_i} / \\\\left(k \\\\, \\\\frac{m}{n} \\\\, (1 - \\\\frac{m}{n})\\\\right)$\",\n",
    "                hue=\"stratification\", saturation=1.)\n",
    "vals = g.get_yticks()\n",
    "g.set_yticklabels([f\"{x:.1%}\".replace(\"%\", \"\\\\%\") for x in vals])\n",
    "plt.gcf().subplots_adjust(bottom=0.15, left=0.2)\n",
    "g.figure.savefig(\"simple_fraction16.pdf\")"
   ]
  },
  {
   "cell_type": "code",
   "execution_count": 47,
   "metadata": {},
   "outputs": [
    {
     "name": "stdout",
     "output_type": "stream",
     "text": [
      "uniform 0.0\n",
      "gender/race 0.03661053873072504\n",
      "k-means 1.3198017138635514\n",
      "manual 0.8335565363729813\n"
     ]
    }
   ],
   "source": [
    "for approach in candidates:\n",
    "    da = d[d[\"stratification\"] == approach]\n",
    "    avg = (da[\"equiv. panel size without rounding\"] - da[\"equivalent panel size\"]).mean()\n",
    "    print(approach, avg)"
   ]
  },
  {
   "cell_type": "code",
   "execution_count": 48,
   "metadata": {},
   "outputs": [],
   "source": [
    "roundings = []\n",
    "for approach in [\"k-means\", \"manual\"]:\n",
    "    for year in years:\n",
    "        for att, _ in nonrev_atts[year]:\n",
    "            strat = candidates[approach][year]\n",
    "            mi, ni = count_mi_ni(datas[year][att + \"_bin\"], strat[\"stratum\"])\n",
    "            ell = len(ni)\n",
    "            rhoi, gi = get_layout(ni, k)\n",
    "            roundings += [{\"stratification\": approach, \"year\": year, \"attitude\": att,\n",
    "                           \"$\\\\rho_i \\\\, (\\\\rho_i - 1)$\": rhoi[i] * (1 - rhoi[i]),\n",
    "                           \"$(m_i/n_i - m_{i+1}/n_{i+1})^2$\": (mi[i]/ni[i] - mi[i+1]/ni[i+1])**2}\n",
    "                          for i in range(ell - 1)]\n",
    "d3 = pd.DataFrame(roundings)"
   ]
  },
  {
   "cell_type": "code",
   "execution_count": 49,
   "metadata": {},
   "outputs": [
    {
     "data": {
      "image/png": "[encoded data removed]",
      "text/plain": [
       "<Figure size 571.131x360 with 1 Axes>"
      ]
     },
     "metadata": {},
     "output_type": "display_data"
    }
   ],
   "source": [
    "g = sns.catplot(data=d3, x=\"attitude\", y=\"$\\\\rho_i \\\\, (\\\\rho_i - 1)$\",\n",
    "                hue=\"stratification\", dodge=True, aspect=1.3, kind=\"box\", palette=sns.color_palette()[2:],\n",
    "                showmeans=True, meanprops={\"markerfacecolor\": \"white\", \"markeredgecolor\": \"black\"}, saturation=1.)\n",
    "plt.xticks(rotation=90)\n",
    "g.savefig(\"alignment.pdf\")"
   ]
  },
  {
   "cell_type": "code",
   "execution_count": 50,
   "metadata": {},
   "outputs": [
    {
     "data": {
      "image/png": "[encoded data removed]",
      "text/plain": [
       "<Figure size 468x360 with 1 Axes>"
      ]
     },
     "metadata": {},
     "output_type": "display_data"
    }
   ],
   "source": [
    "g = sns.catplot(data=d3, x=\"attitude\", y=\"$(m_i/n_i - m_{i+1}/n_{i+1})^2$\",\n",
    "                hue=\"stratification\", dodge=True, aspect=1.3, kind=\"box\", palette=sns.color_palette()[2:],\n",
    "                showmeans=True, meanprops={\"markerfacecolor\": \"white\", \"markeredgecolor\": \"black\"}, legend=False, saturation=1.)\n",
    "plt.legend(loc=\"upper right\")\n",
    "g.ax.set_ylim((0, 0.28))\n",
    "plt.xticks(rotation=90)\n",
    "g.savefig(\"adjacency.pdf\")"
   ]
  },
  {
   "cell_type": "code",
   "execution_count": 51,
   "metadata": {},
   "outputs": [
    {
     "data": {
      "text/html": [
       "<div>\n",
       "<style scoped>\n",
       "    .dataframe tbody tr th:only-of-type {\n",
       "        vertical-align: middle;\n",
       "    }\n",
       "\n",
       "    .dataframe tbody tr th {\n",
       "        vertical-align: top;\n",
       "    }\n",
       "\n",
       "    .dataframe thead th {\n",
       "        text-align: right;\n",
       "    }\n",
       "</style>\n",
       "<table border=\"1\" class=\"dataframe\">\n",
       "  <thead>\n",
       "    <tr style=\"text-align: right;\">\n",
       "      <th></th>\n",
       "      <th>$(m_i/n_i - m_{i+1}/n_{i+1})^2$</th>\n",
       "      <th>$\\rho_i \\, (\\rho_i - 1)$</th>\n",
       "      <th>attitude</th>\n",
       "      <th>stratification</th>\n",
       "      <th>year</th>\n",
       "    </tr>\n",
       "  </thead>\n",
       "  <tbody>\n",
       "    <tr>\n",
       "      <th>116</th>\n",
       "      <td>0.342032</td>\n",
       "      <td>0.062087</td>\n",
       "      <td>homosex</td>\n",
       "      <td>k-means</td>\n",
       "      <td>2014</td>\n",
       "    </tr>\n",
       "    <tr>\n",
       "      <th>128</th>\n",
       "      <td>0.551837</td>\n",
       "      <td>0.245806</td>\n",
       "      <td>homosex</td>\n",
       "      <td>k-means</td>\n",
       "      <td>2014</td>\n",
       "    </tr>\n",
       "    <tr>\n",
       "      <th>129</th>\n",
       "      <td>0.326531</td>\n",
       "      <td>0.248085</td>\n",
       "      <td>homosex</td>\n",
       "      <td>k-means</td>\n",
       "      <td>2014</td>\n",
       "    </tr>\n",
       "  </tbody>\n",
       "</table>\n",
       "</div>"
      ],
      "text/plain": [
       "     $(m_i/n_i - m_{i+1}/n_{i+1})^2$  $\\rho_i \\, (\\rho_i - 1)$ attitude  \\\n",
       "116                         0.342032                  0.062087  homosex   \n",
       "128                         0.551837                  0.245806  homosex   \n",
       "129                         0.326531                  0.248085  homosex   \n",
       "\n",
       "    stratification  year  \n",
       "116        k-means  2014  \n",
       "128        k-means  2014  \n",
       "129        k-means  2014  "
      ]
     },
     "execution_count": 51,
     "metadata": {},
     "output_type": "execute_result"
    }
   ],
   "source": [
    "d3[d3[\"$(m_i/n_i - m_{i+1}/n_{i+1})^2$\"] > 0.28]"
   ]
  },
  {
   "cell_type": "code",
   "execution_count": 52,
   "metadata": {},
   "outputs": [],
   "source": [
    "def plot_stratification(data, hidden_feature, strata, sort=False):\n",
    "    lowred = sns.desaturate(red, .85)\n",
    "    lowgreen = sns.desaturate(green, .85)\n",
    "    \n",
    "    n = len(data)\n",
    "    m = len(data[data[hidden_feature] == 1])\n",
    "    combination = data.join(strata, how=\"inner\")\n",
    "    mi, ni = count_mi_ni(combination[hidden_feature], combination[\"stratum\"])\n",
    "    # top bar (red) from -nx * m / n + mx to nx * (1 - m / n)\n",
    "    # lower bar (green) from -nx * m / n to -nx * m / n + mx\n",
    "    # subbar between -nx * m / n + mx and 0 is hatched\n",
    "    # simulate by four bars:\n",
    "    # green plain from -nx * m / n to min(-nx * m / n + mx, 0)\n",
    "    # red hatched from min(-nx * m / n + mx, 0) to 0\n",
    "    # green hatched from 0 to max(-nx * m / n + mx, 0)\n",
    "    # red plain from max(-nx * m / n + mx, 0) to x * (1 - m / n)\n",
    "    \n",
    "    bots = [- nx * m/n for nx in ni]\n",
    "    gpupper = [min(-nx * m/n + mx, 0) for mx, nx in zip(mi, ni)]\n",
    "    rhupper = [0 for _ in ni]\n",
    "    ghupper = [max(-nx * m/n + mx, 0) for mx, nx in zip(mi, ni)]\n",
    "    rpupper = [nx * (1 - m/n) for nx in ni]\n",
    "    mui = [mx / nx for mx, nx in zip(mi, ni)]\n",
    "    epsi = [mx - m / n * nx for mx, nx in zip(mi, ni)]\n",
    "    d = pd.DataFrame({\"bots\": bots, \"gp\": gpupper, \"rh\": rhupper, \"gh\": ghupper, \"rp\": rpupper, \"mui\": mui, \"stratum\": range(len(ni)), \"epsi\": epsi})\n",
    "    if sort:\n",
    "        d = d.sort_values(\"mui\").reset_index(drop=True)\n",
    "    \n",
    "    fig, ax = plt.subplots(figsize=(10, 5))\n",
    "    ax.bar(x=d.index, height=d[\"gp\"]-d[\"bots\"], bottom=d[\"bots\"], color=lowgreen)\n",
    "    ax.bar(x=d.index, height=d[\"rh\"]-d[\"gp\"], bottom=d[\"gp\"], color=lowred, hatch=\"///\")\n",
    "    ax.bar(x=d.index, height=d[\"gh\"]-d[\"rh\"], bottom=d[\"rh\"], color=lowgreen, hatch=\"///\")\n",
    "    ax.bar(x=d.index, height=d[\"rp\"]-d[\"gh\"], bottom=d[\"gh\"], color=lowred)\n",
    "    ax.plot(d.index, d[\"epsi\"], \"D\", color=\"black\")\n",
    "    if sort:\n",
    "        ax.set_xlabel(\"strata sorted by $m_i/n_i$\")\n",
    "    else:\n",
    "        ax.set_xlabel(\"strata in order\")\n",
    "    ax.set_ylabel(\"$\\\\epsilon_i$ (black diamonds)\")\n",
    "    ax.set_xticklabels([])\n",
    "    ax.xaxis.grid(False)\n",
    "    return fig"
   ]
  },
  {
   "cell_type": "code",
   "execution_count": 53,
   "metadata": {},
   "outputs": [
    {
     "data": {
      "image/png": "[encoded data removed]",
      "text/plain": [
       "<Figure size 720x360 with 1 Axes>"
      ]
     },
     "metadata": {},
     "output_type": "display_data"
    }
   ],
   "source": [
    "g = plot_stratification(datas[2016], \"eqwlth_bin\", manuals[2016], True)\n",
    "g.axes[0].set_ylim((-60, 60))\n",
    "g.savefig(\"manuals_eqwlth.pdf\")"
   ]
  },
  {
   "cell_type": "code",
   "execution_count": 54,
   "metadata": {},
   "outputs": [
    {
     "data": {
      "image/png": "[encoded data removed]",
      "text/plain": [
       "<Figure size 720x360 with 1 Axes>"
      ]
     },
     "metadata": {},
     "output_type": "display_data"
    }
   ],
   "source": [
    "g = plot_stratification(datas[2016], \"natpark_bin\", manuals[2016], True)\n",
    "g.axes[0].set_ylim((-60, 60))\n",
    "g.savefig(\"manuals_natpark.pdf\")"
   ]
  },
  {
   "cell_type": "code",
   "execution_count": 55,
   "metadata": {},
   "outputs": [
    {
     "data": {
      "image/png": "[encoded data removed]",
      "text/plain": [
       "<Figure size 720x360 with 1 Axes>"
      ]
     },
     "metadata": {},
     "output_type": "display_data"
    }
   ],
   "source": [
    "g = plot_stratification(datas[2014], \"homosex_bin\", manuals[2014], False)\n",
    "g.axes[0].set_ylim((-35, 35))\n",
    "g.savefig(\"manuals_homosex.pdf\")"
   ]
  },
  {
   "cell_type": "code",
   "execution_count": 56,
   "metadata": {},
   "outputs": [
    {
     "data": {
      "image/png": "[encoded data removed]",
      "text/plain": [
       "<Figure size 720x360 with 1 Axes>"
      ]
     },
     "metadata": {},
     "output_type": "display_data"
    }
   ],
   "source": [
    "g = plot_stratification(datas[2014], \"homosex_bin\", kmeans[2014], False)\n",
    "g.axes[0].set_ylim((-35, 35))\n",
    "g.savefig(\"kmeans_homosex.pdf\")"
   ]
  },
  {
   "cell_type": "code",
   "execution_count": 57,
   "metadata": {},
   "outputs": [
    {
     "data": {
      "text/plain": [
       "(0.14875458868807015, 0.03735610480118369)"
      ]
     },
     "execution_count": 57,
     "metadata": {},
     "output_type": "execute_result"
    }
   ],
   "source": [
    "simple_fraction(datas[2016], \"eqwlth_bin\", manuals[2016], k), simple_fraction(datas[2016], \"natpark_bin\", manuals[2016], k)"
   ]
  },
  {
   "cell_type": "code",
   "execution_count": 58,
   "metadata": {},
   "outputs": [],
   "source": [
    "m = len(datas[2014][datas[2014][\"tax_bin\"] == 1])\n",
    "expvar = compute_variance(datas[2014], \"tax_bin\", manual_tax, k, \"expvar\")\n",
    "varexp = compute_variance(datas[2014], \"tax_bin\", manual_tax, k, \"varexp\")\n",
    "equivalent_k = equivalent_panel_size(expvar + varexp, len(datas[2014]), m, k)\n",
    "variances.append({\"year\": 2014, \"attitude\": \"tax\", \"stratification\": \"manual known category\", \"variance\": expvar + varexp, \"varexp\": varexp,\n",
    "                  \"expvar\": expvar, \"equivalent panel size\": equivalent_k})\n",
    "\n",
    "m = len(datas[2016][datas[2016][\"helpsick_bin\"] == 1])\n",
    "expvar = compute_variance(datas[2016], \"helpsick_bin\", manual_helpsick, k, \"expvar\")\n",
    "varexp = compute_variance(datas[2016], \"helpsick_bin\", manual_helpsick, k, \"varexp\")\n",
    "equivalent_k = equivalent_panel_size(expvar + varexp, len(datas[2016]), m, k)\n",
    "variances.append({\"year\": 2016, \"attitude\": \"helpsick\", \"stratification\": \"manual known category\", \"variance\": expvar + varexp, \"varexp\": varexp,\n",
    "                  \"expvar\": expvar, \"equivalent panel size\": equivalent_k})"
   ]
  },
  {
   "cell_type": "code",
   "execution_count": 59,
   "metadata": {},
   "outputs": [],
   "source": [
    "d2 = pd.DataFrame(variances)"
   ]
  },
  {
   "cell_type": "code",
   "execution_count": 60,
   "metadata": {},
   "outputs": [
    {
     "data": {
      "image/png": "[encoded data removed]",
      "text/plain": [
       "<Figure size 432x288 with 1 Axes>"
      ]
     },
     "metadata": {},
     "output_type": "display_data"
    }
   ],
   "source": [
    "g = sns.barplot(data=d2[d2[\"attitude\"].isin([\"tax\", \"helpsick\"])], x=\"attitude\", y=\"equivalent panel size\", hue=\"stratification\", saturation=1.)\n",
    "g.set_ylim((49, 58))\n",
    "plt.gcf().subplots_adjust(bottom=0.15)\n",
    "plt.legend(loc=\"upper left\")\n",
    "g.figure.savefig(\"compare_stratification_withrev.pdf\")"
   ]
  }
 ],
 "metadata": {
  "kernelspec": {
   "display_name": "Python 3",
   "language": "python",
   "name": "python3"
  },
  "language_info": {
   "codemirror_mode": {
    "name": "ipython",
    "version": 3
   },
   "file_extension": ".py",
   "mimetype": "text/x-python",
   "name": "python",
   "nbconvert_exporter": "python",
   "pygments_lexer": "ipython3",
   "version": "3.6.6rc1"
  }
 },
 "nbformat": 4,
 "nbformat_minor": 2
}
